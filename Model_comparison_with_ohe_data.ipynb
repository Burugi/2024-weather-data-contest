{
 "cells": [
  {
   "cell_type": "code",
   "execution_count": null,
   "metadata": {},
   "outputs": [],
   "source": [
    "import utils\n",
    "import pandas as pd"
   ]
  },
  {
   "cell_type": "code",
   "execution_count": null,
   "metadata": {},
   "outputs": [],
   "source": [
    "X_ohe_encoded=pd.read_csv('Data//X_ohe_encoded.csv')\n",
    "\n",
    "X = X_ohe_encoded.drop(columns=['fog_train.class'])\n",
    "y = X_ohe_encoded['fog_train.class']"
   ]
  },
  {
   "cell_type": "code",
   "execution_count": null,
   "metadata": {},
   "outputs": [],
   "source": [
    "from sklearn.utils import resample\n",
    "from sklearn.model_selection import train_test_split\n",
    "# 데이터 결합\n",
    "data_combined = pd.concat([X, y], axis=1)\n",
    "\n",
    "# 다수 클래스와 소수 클래스를 나눔\n",
    "majority_class = data_combined[data_combined['fog_train.class'] == 3]\n",
    "minority_classes = data_combined[data_combined['fog_train.class'] != 3]\n",
    "\n",
    "# 다수 클래스를 소수 클래스의 수만큼 무작위로 샘플링\n",
    "majority_downsampled = resample(majority_class,\n",
    "                                replace=False, # 샘플을 복원하지 않음\n",
    "                                n_samples=len(minority_classes), # 소수 클래스의 수만큼 샘플링\n",
    "                                random_state=42) # 재현성을 위해 난수 시드 설정\n",
    "\n",
    "# 소수 클래스와 샘플링된 다수 클래스를 결합\n",
    "downsampled_data = pd.concat([minority_classes, majority_downsampled])\n",
    "\n",
    "# 다시 특성과 레이블 분리\n",
    "X_downsampled = downsampled_data.drop(columns=['fog_train.class'])\n",
    "y_downsampled = downsampled_data['fog_train.class']\n",
    "\n",
    "# 훈련 및 테스트 데이터 분리\n",
    "X_train, X_test, y_train, y_test = train_test_split(X_downsampled, y_downsampled, test_size=0.2, random_state=42)"
   ]
  },
  {
   "cell_type": "code",
   "execution_count": null,
   "metadata": {},
   "outputs": [],
   "source": [
    "from sklearn.linear_model import LogisticRegression\n",
    "from sklearn.metrics import accuracy_score, precision_score, recall_score, f1_score\n",
    "\n",
    "# 선형 모델 학습\n",
    "linear_model = LogisticRegression(max_iter=1000)\n",
    "linear_model.fit(X_train, y_train)\n",
    "\n",
    "# 예측\n",
    "y_pred_linear = linear_model.predict(X_test)\n",
    "\n",
    "# 다중 CSI 계산\n",
    "csi = utils.calculate_csi(y_test, y_pred_linear)\n",
    "\n",
    "print(f'CSI: {csi}')"
   ]
  },
  {
   "cell_type": "code",
   "execution_count": null,
   "metadata": {},
   "outputs": [],
   "source": [
    "'''\n",
    "Logistic Regression Accuracy: 0.62578125\n",
    "Logistic Regression Precision: 0.5890220040974103\n",
    "Logistic Regression Recall: 0.62578125\n",
    "Logistic Regression F1 Score: 0.5906919716534494\n",
    "CSI: 0.34392265193370164\n",
    "'''"
   ]
  },
  {
   "cell_type": "code",
   "execution_count": null,
   "metadata": {},
   "outputs": [],
   "source": [
    "from sklearn.svm import SVC\n",
    "from sklearn.metrics import accuracy_score, precision_score, recall_score, f1_score\n",
    "\n",
    "# SVM 모델 학습\n",
    "svm_model = SVC(probability=True)\n",
    "svm_model.fit(X_train, y_train)\n",
    "\n",
    "# 예측\n",
    "y_pred_svm = svm_model.predict(X_test)\n",
    "\n",
    "# 다중 CSI 계산\n",
    "csi = utils.calculate_csi(y_test, y_pred_svm)\n",
    "\n",
    "print(f'CSI: {csi}')"
   ]
  },
  {
   "cell_type": "code",
   "execution_count": null,
   "metadata": {},
   "outputs": [],
   "source": [
    "'''\n",
    "SVM Accuracy: 0.47890625\n",
    "SVM Precision: 0.2293511962890625\n",
    "SVM Recall: 0.47890625\n",
    "SVM F1 Score: 0.310163265979926\n",
    "CSI: 0.2674731182795699\n",
    "'''"
   ]
  },
  {
   "cell_type": "code",
   "execution_count": null,
   "metadata": {},
   "outputs": [],
   "source": [
    "from sklearn.cluster import KMeans\n",
    "from sklearn.metrics import silhouette_score, accuracy_score, precision_score, recall_score, f1_score\n",
    "from scipy.stats import mode\n",
    "\n",
    "# K-Means 클러스터링\n",
    "kmeans_model = KMeans(n_clusters=len(np.unique(y)), random_state=42)\n",
    "kmeans_model.fit(X_train)\n",
    "\n",
    "# 클러스터 예측\n",
    "y_pred_kmeans = kmeans_model.predict(X_test)\n",
    "\n",
    "# 클러스터 레이블과 실제 레이블 매칭\n",
    "def match_labels(true_labels, pred_labels):\n",
    "    labels = np.zeros_like(pred_labels)\n",
    "    for i in np.unique(pred_labels):\n",
    "        mask = (pred_labels == i)\n",
    "        labels[mask] = mode(true_labels[mask])[0]\n",
    "    return labels\n",
    "\n",
    "# 매칭된 클러스터 레이블\n",
    "y_pred_kmeans_matched = match_labels(y_test, y_pred_kmeans)\n",
    "\n",
    "# 다중 CSI 계산\n",
    "csi = utils.calculate_csi(y_test, y_pred_kmeans_matched)\n",
    "\n",
    "print(f'CSI: {csi}')"
   ]
  },
  {
   "cell_type": "code",
   "execution_count": null,
   "metadata": {},
   "outputs": [],
   "source": [
    "'''\n",
    "K-Means Silhouette Score: 0.40265303090996946\n",
    "K-Means Accuracy: 0.47890625\n",
    "K-Means Precision: 0.2293511962890625\n",
    "K-Means Recall: 0.47890625\n",
    "K-Means F1 Score: 0.310163265979926\n",
    "CSI: 0.0\n",
    "'''"
   ]
  }
 ],
 "metadata": {
  "language_info": {
   "name": "python"
  }
 },
 "nbformat": 4,
 "nbformat_minor": 2
}

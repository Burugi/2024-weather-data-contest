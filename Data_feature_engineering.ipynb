{
 "cells": [
  {
   "cell_type": "code",
   "execution_count": 1,
   "metadata": {},
   "outputs": [],
   "source": [
    "import pandas as pd"
   ]
  },
  {
   "cell_type": "code",
   "execution_count": 2,
   "metadata": {},
   "outputs": [],
   "source": [
    "X_label_encoded=pd.read_csv('Data//X_label_encoded.csv')\n",
    "\n",
    "X = X_label_encoded.drop(columns=['fog_train.class'])\n",
    "y = X_label_encoded['fog_train.class']"
   ]
  },
  {
   "cell_type": "code",
   "execution_count": 5,
   "metadata": {},
   "outputs": [
    {
     "name": "stdout",
     "output_type": "stream",
     "text": [
      "Feature: fog_train.hm, Score: 1746.5294\n",
      "Feature: fog_train.re, Score: 843.2455\n",
      "Feature: fog_train.time, Score: 305.4303\n",
      "Feature: fog_train.sun10, Score: 277.7878\n",
      "Feature: fog_train.ws10_ms, Score: 253.4201\n",
      "Feature: fog_train.ta, Score: 108.4384\n",
      "Feature: fog_train.ts, Score: 97.7132\n",
      "Feature: season, Score: 40.0278\n",
      "Feature: fog_train.month, Score: 26.5210\n",
      "Feature: fog_train.year, Score: 24.7785\n",
      "Feature: day_category, Score: 23.0100\n",
      "Feature: region, Score: 11.0116\n",
      "Feature: fog_train.ws10_deg, Score: 4.2253\n"
     ]
    }
   ],
   "source": [
    "# 3. 특징 선택 및 엔지니어링\n",
    "# 특징 선택: 상관계수, 피처 중요도 등을 통해 중요한 특징을 선택합니다.\n",
    "# 특징 엔지니어링: 날짜 및 시간 데이터를 통해 새로운 특징을 생성하거나, 파생 변수를 추가합니다.\n",
    "from sklearn.feature_selection import SelectKBest, f_classif\n",
    "\n",
    "selector = SelectKBest(score_func=f_classif, k='all')\n",
    "selector.fit(X, y)\n",
    "scores = selector.scores_\n",
    "\n",
    "# 특징과 점수를 묶어 리스트로 만들고 점수를 기준으로 정렬\n",
    "features_scores = sorted(zip(X.columns, scores), key=lambda x: x[1], reverse=True)\n",
    "\n",
    "# 중요 특징 출력\n",
    "for feature, score in features_scores:\n",
    "    print(f\"Feature: {feature}, Score: {score:.4f}\")"
   ]
  }
 ],
 "metadata": {
  "kernelspec": {
   "display_name": "base",
   "language": "python",
   "name": "python3"
  },
  "language_info": {
   "codemirror_mode": {
    "name": "ipython",
    "version": 3
   },
   "file_extension": ".py",
   "mimetype": "text/x-python",
   "name": "python",
   "nbconvert_exporter": "python",
   "pygments_lexer": "ipython3",
   "version": "3.11.3"
  }
 },
 "nbformat": 4,
 "nbformat_minor": 2
}

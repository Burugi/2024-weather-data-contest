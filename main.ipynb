{
 "cells": [
  {
   "cell_type": "code",
   "execution_count": 1,
   "metadata": {},
   "outputs": [],
   "source": [
    "import pandas as pd\n",
    "from sklearn.model_selection import train_test_split, cross_val_score\n",
    "from sklearn.preprocessing import StandardScaler\n",
    "from sklearn.linear_model import LogisticRegression\n",
    "from sklearn.svm import SVC\n",
    "from sklearn.ensemble import RandomForestClassifier\n",
    "from xgboost import XGBClassifier\n",
    "from sklearn.metrics import classification_report, confusion_matrix\n",
    "import seaborn as sns\n",
    "import matplotlib.pyplot as plt\n"
   ]
  },
  {
   "cell_type": "code",
   "execution_count": 2,
   "metadata": {},
   "outputs": [],
   "source": [
    "import warnings\n",
    "warnings.filterwarnings('ignore')   "
   ]
  },
  {
   "cell_type": "code",
   "execution_count": 3,
   "metadata": {},
   "outputs": [
    {
     "name": "stdout",
     "output_type": "stream",
     "text": [
      "Unnamed: 0            0\n",
      "fog_train.year        0\n",
      "fog_train.month       0\n",
      "fog_train.day         0\n",
      "fog_train.time        0\n",
      "fog_train.minute      0\n",
      "fog_train.stn_id      0\n",
      "fog_train.ws10_deg    0\n",
      "fog_train.ws10_ms     0\n",
      "fog_train.ta          0\n",
      "fog_train.re          0\n",
      "fog_train.hm          0\n",
      "fog_train.sun10       0\n",
      "fog_train.ts          0\n",
      "fog_train.vis1        0\n",
      "fog_train.class       0\n",
      "dtype: int64\n"
     ]
    },
    {
     "data": {
      "image/png": "[encoded data removed]",
      "text/plain": [
       "<Figure size 640x480 with 1 Axes>"
      ]
     },
     "metadata": {},
     "output_type": "display_data"
    }
   ],
   "source": [
    "import pandas as pd\n",
    "\n",
    "# 데이터 불러오기\n",
    "data = pd.read_csv('Data//train_data.csv')\n",
    "\n",
    "# 결측치 확인\n",
    "print(data.isnull().sum())\n",
    "\n",
    "# datetime 형식 변환\n",
    "# data['datetime'] = pd.to_datetime(data[['fog_train.year', 'fog_train.month', 'fog_train.day', 'fog_train.time', 'fog_train.minute']])\n",
    "# data.drop(columns=['fog_train.year', 'fog_train.month', 'fog_train.day', 'fog_train.time', 'fog_train.minute'], inplace=True)\n",
    "# 일단 날짜 관련 값도 이란 지우지 말고 한번 보기 \n",
    "\n",
    "# 이상치 확인 및 처리\n",
    "# 예를 들어, 시각적으로 이상치를 확인하고 처리\n",
    "import seaborn as sns\n",
    "import matplotlib.pyplot as plt\n",
    "\n",
    "sns.boxplot(x=data['fog_train.ws10_ms'])\n",
    "plt.show()\n",
    "\n",
    "# 이상치 제거 또는 대체\n",
    "# data = data[data['fog_train.ws10_ms'] < 특정값]\n"
   ]
  },
  {
   "cell_type": "code",
   "execution_count": 4,
   "metadata": {},
   "outputs": [
    {
     "name": "stdout",
     "output_type": "stream",
     "text": [
      "         Unnamed: 0  fog_train.month  fog_train.day  fog_train.time  \\\n",
      "count  3.156459e+06     3.156459e+06   3.156459e+06    3.156459e+06   \n",
      "mean   1.578230e+06     6.521931e+00   1.573276e+01    1.150007e+01   \n",
      "std    9.111914e+05     3.448969e+00   8.801320e+00    6.922149e+00   \n",
      "min    1.000000e+00     1.000000e+00   1.000000e+00    0.000000e+00   \n",
      "25%    7.891155e+05     4.000000e+00   8.000000e+00    6.000000e+00   \n",
      "50%    1.578230e+06     7.000000e+00   1.600000e+01    1.200000e+01   \n",
      "75%    2.367344e+06     1.000000e+01   2.300000e+01    1.800000e+01   \n",
      "max    3.156459e+06     1.200000e+01   3.100000e+01    2.300000e+01   \n",
      "\n",
      "       fog_train.minute  fog_train.ws10_deg  fog_train.ws10_ms  fog_train.ta  \\\n",
      "count      3.156459e+06        3.156459e+06       3.156459e+06  3.156459e+06   \n",
      "mean       2.500016e+01        1.852152e+02       1.999417e+00  1.328812e+01   \n",
      "std        1.707819e+01        1.072184e+02       4.721616e+00  1.100537e+01   \n",
      "min        0.000000e+00       -9.990000e+01      -9.990000e+01 -9.990000e+01   \n",
      "25%        1.000000e+01        8.470000e+01       9.000000e-01  5.500000e+00   \n",
      "50%        3.000000e+01        2.094000e+02       1.800000e+00  1.430000e+01   \n",
      "75%        4.000000e+01        2.769000e+02       3.000000e+00  2.200000e+01   \n",
      "max        5.000000e+01        3.600000e+02       2.250000e+01  3.780000e+01   \n",
      "\n",
      "       fog_train.re  fog_train.hm  fog_train.sun10  fog_train.ts  \\\n",
      "count  3.156459e+06  3.156459e+06     3.156459e+06  3.156459e+06   \n",
      "mean  -4.298995e-01  6.667729e+01    -1.288869e+00  1.282955e+01   \n",
      "std    6.929268e+00  2.173623e+01     1.171355e+01  2.257327e+01   \n",
      "min   -9.990000e+01 -9.990000e+01    -9.990000e+01 -9.990000e+01   \n",
      "25%    0.000000e+00  5.130000e+01     0.000000e+00  5.100000e+00   \n",
      "50%    0.000000e+00  6.870000e+01     0.000000e+00  1.570000e+01   \n",
      "75%    0.000000e+00  8.470000e+01     1.600000e-01  2.430000e+01   \n",
      "max    1.000000e+00  1.000000e+02     2.687000e+01  7.010000e+01   \n",
      "\n",
      "       fog_train.vis1  fog_train.class  \n",
      "count    3.156459e+06     3.156459e+06  \n",
      "mean     1.963548e+04     3.246275e+00  \n",
      "std      1.206407e+04     8.668957e+00  \n",
      "min     -9.900000e+01    -9.900000e+01  \n",
      "25%      1.229700e+04     4.000000e+00  \n",
      "50%      2.000000e+04     4.000000e+00  \n",
      "75%      2.000000e+04     4.000000e+00  \n",
      "max      6.052500e+04     4.000000e+00  \n"
     ]
    },
    {
     "data": {
      "image/png": "[encoded data removed]",
      "text/plain": [
       "<Figure size 640x480 with 1 Axes>"
      ]
     },
     "metadata": {},
     "output_type": "display_data"
    },
    {
     "ename": "KeyboardInterrupt",
     "evalue": "",
     "output_type": "error",
     "traceback": [
      "\u001b[1;31m---------------------------------------------------------------------------\u001b[0m",
      "\u001b[1;31mKeyboardInterrupt\u001b[0m                         Traceback (most recent call last)",
      "Cell \u001b[1;32mIn[4], line 12\u001b[0m\n\u001b[0;32m      9\u001b[0m plt\u001b[38;5;241m.\u001b[39mshow()\n\u001b[0;32m     11\u001b[0m \u001b[38;5;66;03m# 각 변수와 타겟 변수 간의 관계 확인\u001b[39;00m\n\u001b[1;32m---> 12\u001b[0m sns\u001b[38;5;241m.\u001b[39mpairplot(data, hue\u001b[38;5;241m=\u001b[39m\u001b[38;5;124m'\u001b[39m\u001b[38;5;124mfog_train.class\u001b[39m\u001b[38;5;124m'\u001b[39m)\n\u001b[0;32m     13\u001b[0m plt\u001b[38;5;241m.\u001b[39mshow()\n\u001b[0;32m     15\u001b[0m \u001b[38;5;66;03m# 상관계수 행렬\u001b[39;00m\n",
      "File \u001b[1;32mc:\\Users\\dlagu\\anaconda3\\Lib\\site-packages\\seaborn\\axisgrid.py:2148\u001b[0m, in \u001b[0;36mpairplot\u001b[1;34m(data, hue, hue_order, palette, vars, x_vars, y_vars, kind, diag_kind, markers, height, aspect, corner, dropna, plot_kws, diag_kws, grid_kws, size)\u001b[0m\n\u001b[0;32m   2146\u001b[0m     diag_kws\u001b[38;5;241m.\u001b[39msetdefault(\u001b[38;5;124m\"\u001b[39m\u001b[38;5;124mfill\u001b[39m\u001b[38;5;124m\"\u001b[39m, \u001b[38;5;28;01mTrue\u001b[39;00m)\n\u001b[0;32m   2147\u001b[0m     diag_kws\u001b[38;5;241m.\u001b[39msetdefault(\u001b[38;5;124m\"\u001b[39m\u001b[38;5;124mwarn_singular\u001b[39m\u001b[38;5;124m\"\u001b[39m, \u001b[38;5;28;01mFalse\u001b[39;00m)\n\u001b[1;32m-> 2148\u001b[0m     grid\u001b[38;5;241m.\u001b[39mmap_diag(kdeplot, \u001b[38;5;241m*\u001b[39m\u001b[38;5;241m*\u001b[39mdiag_kws)\n\u001b[0;32m   2150\u001b[0m \u001b[38;5;66;03m# Maybe plot on the off-diagonals\u001b[39;00m\n\u001b[0;32m   2151\u001b[0m \u001b[38;5;28;01mif\u001b[39;00m diag_kind \u001b[38;5;129;01mis\u001b[39;00m \u001b[38;5;129;01mnot\u001b[39;00m \u001b[38;5;28;01mNone\u001b[39;00m:\n",
      "File \u001b[1;32mc:\\Users\\dlagu\\anaconda3\\Lib\\site-packages\\seaborn\\axisgrid.py:1507\u001b[0m, in \u001b[0;36mPairGrid.map_diag\u001b[1;34m(self, func, **kwargs)\u001b[0m\n\u001b[0;32m   1505\u001b[0m     plot_kwargs\u001b[38;5;241m.\u001b[39msetdefault(\u001b[38;5;124m\"\u001b[39m\u001b[38;5;124mhue_order\u001b[39m\u001b[38;5;124m\"\u001b[39m, \u001b[38;5;28mself\u001b[39m\u001b[38;5;241m.\u001b[39m_hue_order)\n\u001b[0;32m   1506\u001b[0m     plot_kwargs\u001b[38;5;241m.\u001b[39msetdefault(\u001b[38;5;124m\"\u001b[39m\u001b[38;5;124mpalette\u001b[39m\u001b[38;5;124m\"\u001b[39m, \u001b[38;5;28mself\u001b[39m\u001b[38;5;241m.\u001b[39m_orig_palette)\n\u001b[1;32m-> 1507\u001b[0m     func(x\u001b[38;5;241m=\u001b[39mvector, \u001b[38;5;241m*\u001b[39m\u001b[38;5;241m*\u001b[39mplot_kwargs)\n\u001b[0;32m   1508\u001b[0m     ax\u001b[38;5;241m.\u001b[39mlegend_ \u001b[38;5;241m=\u001b[39m \u001b[38;5;28;01mNone\u001b[39;00m\n\u001b[0;32m   1510\u001b[0m \u001b[38;5;28mself\u001b[39m\u001b[38;5;241m.\u001b[39m_add_axis_labels()\n",
      "File \u001b[1;32mc:\\Users\\dlagu\\anaconda3\\Lib\\site-packages\\seaborn\\distributions.py:1717\u001b[0m, in \u001b[0;36mkdeplot\u001b[1;34m(data, x, y, hue, weights, palette, hue_order, hue_norm, color, fill, multiple, common_norm, common_grid, cumulative, bw_method, bw_adjust, warn_singular, log_scale, levels, thresh, gridsize, cut, clip, legend, cbar, cbar_ax, cbar_kws, ax, **kwargs)\u001b[0m\n\u001b[0;32m   1713\u001b[0m \u001b[38;5;28;01mif\u001b[39;00m p\u001b[38;5;241m.\u001b[39munivariate:\n\u001b[0;32m   1715\u001b[0m     plot_kws \u001b[38;5;241m=\u001b[39m kwargs\u001b[38;5;241m.\u001b[39mcopy()\n\u001b[1;32m-> 1717\u001b[0m     p\u001b[38;5;241m.\u001b[39mplot_univariate_density(\n\u001b[0;32m   1718\u001b[0m         multiple\u001b[38;5;241m=\u001b[39mmultiple,\n\u001b[0;32m   1719\u001b[0m         common_norm\u001b[38;5;241m=\u001b[39mcommon_norm,\n\u001b[0;32m   1720\u001b[0m         common_grid\u001b[38;5;241m=\u001b[39mcommon_grid,\n\u001b[0;32m   1721\u001b[0m         fill\u001b[38;5;241m=\u001b[39mfill,\n\u001b[0;32m   1722\u001b[0m         color\u001b[38;5;241m=\u001b[39mcolor,\n\u001b[0;32m   1723\u001b[0m         legend\u001b[38;5;241m=\u001b[39mlegend,\n\u001b[0;32m   1724\u001b[0m         warn_singular\u001b[38;5;241m=\u001b[39mwarn_singular,\n\u001b[0;32m   1725\u001b[0m         estimate_kws\u001b[38;5;241m=\u001b[39mestimate_kws,\n\u001b[0;32m   1726\u001b[0m         \u001b[38;5;241m*\u001b[39m\u001b[38;5;241m*\u001b[39mplot_kws,\n\u001b[0;32m   1727\u001b[0m     )\n\u001b[0;32m   1729\u001b[0m \u001b[38;5;28;01melse\u001b[39;00m:\n\u001b[0;32m   1731\u001b[0m     p\u001b[38;5;241m.\u001b[39mplot_bivariate_density(\n\u001b[0;32m   1732\u001b[0m         common_norm\u001b[38;5;241m=\u001b[39mcommon_norm,\n\u001b[0;32m   1733\u001b[0m         fill\u001b[38;5;241m=\u001b[39mfill,\n\u001b[1;32m   (...)\u001b[0m\n\u001b[0;32m   1743\u001b[0m         \u001b[38;5;241m*\u001b[39m\u001b[38;5;241m*\u001b[39mkwargs,\n\u001b[0;32m   1744\u001b[0m     )\n",
      "File \u001b[1;32mc:\\Users\\dlagu\\anaconda3\\Lib\\site-packages\\seaborn\\distributions.py:937\u001b[0m, in \u001b[0;36m_DistributionPlotter.plot_univariate_density\u001b[1;34m(self, multiple, common_norm, common_grid, warn_singular, fill, color, legend, estimate_kws, **plot_kws)\u001b[0m\n\u001b[0;32m    934\u001b[0m log_scale \u001b[38;5;241m=\u001b[39m \u001b[38;5;28mself\u001b[39m\u001b[38;5;241m.\u001b[39m_log_scaled(\u001b[38;5;28mself\u001b[39m\u001b[38;5;241m.\u001b[39mdata_variable)\n\u001b[0;32m    936\u001b[0m \u001b[38;5;66;03m# Do the computation\u001b[39;00m\n\u001b[1;32m--> 937\u001b[0m densities \u001b[38;5;241m=\u001b[39m \u001b[38;5;28mself\u001b[39m\u001b[38;5;241m.\u001b[39m_compute_univariate_density(\n\u001b[0;32m    938\u001b[0m     \u001b[38;5;28mself\u001b[39m\u001b[38;5;241m.\u001b[39mdata_variable,\n\u001b[0;32m    939\u001b[0m     common_norm,\n\u001b[0;32m    940\u001b[0m     common_grid,\n\u001b[0;32m    941\u001b[0m     estimate_kws,\n\u001b[0;32m    942\u001b[0m     log_scale,\n\u001b[0;32m    943\u001b[0m     warn_singular,\n\u001b[0;32m    944\u001b[0m )\n\u001b[0;32m    946\u001b[0m \u001b[38;5;66;03m# Adjust densities based on the `multiple` rule\u001b[39;00m\n\u001b[0;32m    947\u001b[0m densities, baselines \u001b[38;5;241m=\u001b[39m \u001b[38;5;28mself\u001b[39m\u001b[38;5;241m.\u001b[39m_resolve_multiple(densities, multiple)\n",
      "File \u001b[1;32mc:\\Users\\dlagu\\anaconda3\\Lib\\site-packages\\seaborn\\distributions.py:349\u001b[0m, in \u001b[0;36m_DistributionPlotter._compute_univariate_density\u001b[1;34m(self, data_variable, common_norm, common_grid, estimate_kws, log_scale, warn_singular)\u001b[0m\n\u001b[0;32m    345\u001b[0m \u001b[38;5;28;01mtry\u001b[39;00m:\n\u001b[0;32m    346\u001b[0m     \u001b[38;5;28;01mif\u001b[39;00m \u001b[38;5;129;01mnot\u001b[39;00m singular:\n\u001b[0;32m    347\u001b[0m         \u001b[38;5;66;03m# Convoluted approach needed because numerical failures\u001b[39;00m\n\u001b[0;32m    348\u001b[0m         \u001b[38;5;66;03m# can manifest in a few different ways.\u001b[39;00m\n\u001b[1;32m--> 349\u001b[0m         density, support \u001b[38;5;241m=\u001b[39m estimator(observations, weights\u001b[38;5;241m=\u001b[39mweights)\n\u001b[0;32m    350\u001b[0m \u001b[38;5;28;01mexcept\u001b[39;00m np\u001b[38;5;241m.\u001b[39mlinalg\u001b[38;5;241m.\u001b[39mLinAlgError:\n\u001b[0;32m    351\u001b[0m     singular \u001b[38;5;241m=\u001b[39m \u001b[38;5;28;01mTrue\u001b[39;00m\n",
      "File \u001b[1;32mc:\\Users\\dlagu\\anaconda3\\Lib\\site-packages\\seaborn\\_statistics.py:192\u001b[0m, in \u001b[0;36mKDE.__call__\u001b[1;34m(self, x1, x2, weights)\u001b[0m\n\u001b[0;32m    190\u001b[0m \u001b[38;5;250m\u001b[39m\u001b[38;5;124;03m\"\"\"Fit and evaluate on univariate or bivariate data.\"\"\"\u001b[39;00m\n\u001b[0;32m    191\u001b[0m \u001b[38;5;28;01mif\u001b[39;00m x2 \u001b[38;5;129;01mis\u001b[39;00m \u001b[38;5;28;01mNone\u001b[39;00m:\n\u001b[1;32m--> 192\u001b[0m     \u001b[38;5;28;01mreturn\u001b[39;00m \u001b[38;5;28mself\u001b[39m\u001b[38;5;241m.\u001b[39m_eval_univariate(x1, weights)\n\u001b[0;32m    193\u001b[0m \u001b[38;5;28;01melse\u001b[39;00m:\n\u001b[0;32m    194\u001b[0m     \u001b[38;5;28;01mreturn\u001b[39;00m \u001b[38;5;28mself\u001b[39m\u001b[38;5;241m.\u001b[39m_eval_bivariate(x1, x2, weights)\n",
      "File \u001b[1;32mc:\\Users\\dlagu\\anaconda3\\Lib\\site-packages\\seaborn\\_statistics.py:161\u001b[0m, in \u001b[0;36mKDE._eval_univariate\u001b[1;34m(self, x, weights)\u001b[0m\n\u001b[0;32m    157\u001b[0m     density \u001b[38;5;241m=\u001b[39m np\u001b[38;5;241m.\u001b[39marray([\n\u001b[0;32m    158\u001b[0m         kde\u001b[38;5;241m.\u001b[39mintegrate_box_1d(s_0, s_i) \u001b[38;5;28;01mfor\u001b[39;00m s_i \u001b[38;5;129;01min\u001b[39;00m support\n\u001b[0;32m    159\u001b[0m     ])\n\u001b[0;32m    160\u001b[0m \u001b[38;5;28;01melse\u001b[39;00m:\n\u001b[1;32m--> 161\u001b[0m     density \u001b[38;5;241m=\u001b[39m kde(support)\n\u001b[0;32m    163\u001b[0m \u001b[38;5;28;01mreturn\u001b[39;00m density, support\n",
      "File \u001b[1;32mc:\\Users\\dlagu\\anaconda3\\Lib\\site-packages\\scipy\\stats\\_kde.py:268\u001b[0m, in \u001b[0;36mgaussian_kde.evaluate\u001b[1;34m(self, points)\u001b[0m\n\u001b[0;32m    265\u001b[0m         \u001b[38;5;28;01mraise\u001b[39;00m \u001b[38;5;167;01mValueError\u001b[39;00m(msg)\n\u001b[0;32m    267\u001b[0m output_dtype, spec \u001b[38;5;241m=\u001b[39m _get_output_dtype(\u001b[38;5;28mself\u001b[39m\u001b[38;5;241m.\u001b[39mcovariance, points)\n\u001b[1;32m--> 268\u001b[0m result \u001b[38;5;241m=\u001b[39m gaussian_kernel_estimate[spec](\n\u001b[0;32m    269\u001b[0m     \u001b[38;5;28mself\u001b[39m\u001b[38;5;241m.\u001b[39mdataset\u001b[38;5;241m.\u001b[39mT, \u001b[38;5;28mself\u001b[39m\u001b[38;5;241m.\u001b[39mweights[:, \u001b[38;5;28;01mNone\u001b[39;00m],\n\u001b[0;32m    270\u001b[0m     points\u001b[38;5;241m.\u001b[39mT, \u001b[38;5;28mself\u001b[39m\u001b[38;5;241m.\u001b[39mcho_cov, output_dtype)\n\u001b[0;32m    272\u001b[0m \u001b[38;5;28;01mreturn\u001b[39;00m result[:, \u001b[38;5;241m0\u001b[39m]\n",
      "\u001b[1;31mKeyboardInterrupt\u001b[0m: "
     ]
    }
   ],
   "source": [
    "\n",
    "## 2. 탐색적 데이터 분석 (EDA)\n",
    "# EDA를 통해 각 변수와 타겟 변수(fog_train.class) 간의 관계를 파악합니다. 시각화를 통해 변수의 분포와 상관관계를 확인합니다.\n",
    "\n",
    "# 기본 통계량 확인\n",
    "print(data.describe())\n",
    "\n",
    "# 타겟 변수 분포 확인\n",
    "sns.countplot(x='fog_train.class', data=data)\n",
    "plt.show()\n",
    "\n",
    "# 각 변수와 타겟 변수 간의 관계 확인\n",
    "sns.pairplot(data, hue='fog_train.class')\n",
    "plt.show()\n",
    "\n",
    "# 상관계수 행렬\n",
    "corr_matrix = data.corr()\n",
    "sns.heatmap(corr_matrix, annot=True)\n",
    "plt.show()\n"
   ]
  },
  {
   "cell_type": "code",
   "execution_count": null,
   "metadata": {},
   "outputs": [],
   "source": [
    "# 3. 특징 선택 및 엔지니어링\n",
    "# 특징 선택: 상관계수, 피처 중요도 등을 통해 중요한 특징을 선택합니다.\n",
    "# 특징 엔지니어링: 날짜 및 시간 데이터를 통해 새로운 특징을 생성하거나, 파생 변수를 추가합니다.\n",
    "from sklearn.feature_selection import SelectKBest, f_classif\n",
    "\n",
    "# 특징 선택\n",
    "X = data.drop(columns=['fog_train.class'])\n",
    "y = data['fog_train.class']\n",
    "\n",
    "selector = SelectKBest(score_func=f_classif, k='all')\n",
    "selector.fit(X, y)\n",
    "scores = selector.scores_\n",
    "\n",
    "# 중요 특징 출력\n",
    "for feature, score in zip(X.columns, scores):\n",
    "    print(f\"Feature: {feature}, Score: {score}\")\n",
    "\n",
    "# 예시: 새로운 특징 생성\n",
    "data['hour'] = data['datetime'].dt.hour\n",
    "data['month'] = data['datetime'].dt.month\n",
    "data.drop(columns=['datetime'], inplace=True)\n",
    "\n"
   ]
  },
  {
   "cell_type": "markdown",
   "metadata": {},
   "source": [
    "# 순서\n",
    "위는 전처리에 관련된 것\n",
    "아래는 모델의 평가에 관한 것들이다."
   ]
  },
  {
   "cell_type": "code",
   "execution_count": null,
   "metadata": {},
   "outputs": [],
   "source": [
    "\n",
    "# 데이터 불러오기\n",
    "data = pd.read_csv('train_data.csv')\n",
    "\n",
    "# datetime 형식 변환\n",
    "data['datetime'] = pd.to_datetime(data[['fog_train.year', 'fog_train.month', 'fog_train.day', 'fog_train.time', 'fog_train.minute']])\n",
    "data.drop(columns=['fog_train.year', 'fog_train.month', 'fog_train.day', 'fog_train.time', 'fog_train.minute'], inplace=True)\n",
    "\n",
    "# 새로운 특징 생성\n",
    "data['hour'] = data['datetime'].dt.hour\n",
    "data['month'] = data['datetime'].dt.month\n",
    "data.drop(columns=['datetime'], inplace=True)\n",
    "\n",
    "# X, y 분리\n",
    "X = data.drop(columns=['fog_train.class'])\n",
    "y = data['fog_train.class']\n",
    "\n",
    "# 데이터 분할\n",
    "X_train, X_test, y_train, y_test = train_test_split(X, y, test_size=0.2, random_state=42)\n",
    "\n",
    "# 스케일링\n",
    "scaler = StandardScaler()\n",
    "X_train = scaler.fit_transform(X_train)\n",
    "X_test = scaler.transform(X_test)\n",
    "\n",
    "# 모델 정의\n",
    "models = {\n",
    "    \"Logistic Regression\": LogisticRegression(max_iter=1000),\n",
    "    \"SVM\": SVC(),\n",
    "    \"Random Forest\": RandomForestClassifier(),\n",
    "    \"XGBoost\": XGBClassifier(use_label_encoder=False, eval_metric='mlogloss')\n",
    "}\n",
    "\n",
    "# 교차 검증 및 성능 평가\n",
    "for model_name, model in models.items():\n",
    "    scores = cross_val_score(model, X_train, y_train, cv=5, scoring='accuracy')\n",
    "    print(f\"{model_name} Cross-Validation Accuracy: {scores.mean():.4f} ± {scores.std():.4f}\")\n",
    "    model.fit(X_train, y_train)\n",
    "\n",
    "# 최종 모델 학습 및 예측\n",
    "log_reg = models[\"Logistic Regression\"]\n",
    "svm = models[\"SVM\"]\n",
    "rf = models[\"Random Forest\"]\n",
    "xgb = models[\"XGBoost\"]\n",
    "\n",
    "log_reg.fit(X_train, y_train)\n",
    "y_pred_log_reg = log_reg.predict(X_test)\n",
    "\n",
    "svm.fit(X_train, y_train)\n",
    "y_pred_svm = svm.predict(X_test)\n",
    "\n",
    "rf.fit(X_train, y_train)\n",
    "y_pred_rf = rf.predict(X_test)\n",
    "\n",
    "xgb.fit(X_train, y_train)\n",
    "y_pred_xgb = xgb.predict(X_test)\n",
    "\n",
    "# 결과 비교 함수 정의\n",
    "def evaluate_model(y_test, y_pred, model_name):\n",
    "    print(f\"Results for {model_name}:\")\n",
    "    print(classification_report(y_test, y_pred))\n",
    "    cm = confusion_matrix(y_test, y_pred)\n",
    "    sns.heatmap(cm, annot=True, fmt='d', cmap='Blues')\n",
    "    plt.title(f'Confusion Matrix for {model_name}')\n",
    "    plt.xlabel('Predicted')\n",
    "    plt.ylabel('True')\n",
    "    plt.show()\n",
    "\n",
    "# 모델 결과 평가\n",
    "evaluate_model(y_test, y_pred_log_reg, \"Logistic Regression\")\n",
    "evaluate_model(y_test, y_pred_svm, \"SVM\")\n",
    "evaluate_model(y_test, y_pred_rf, \"Random Forest\")\n",
    "evaluate_model(y_test, y_pred_xgb, \"XGBoost\")\n"
   ]
  }
 ],
 "metadata": {
  "kernelspec": {
   "display_name": "base",
   "language": "python",
   "name": "python3"
  },
  "language_info": {
   "codemirror_mode": {
    "name": "ipython",
    "version": 3
   },
   "file_extension": ".py",
   "mimetype": "text/x-python",
   "name": "python",
   "nbconvert_exporter": "python",
   "pygments_lexer": "ipython3",
   "version": "3.11.3"
  }
 },
 "nbformat": 4,
 "nbformat_minor": 2
}

{
 "cells": [
  {
   "cell_type": "code",
   "execution_count": null,
   "metadata": {},
   "outputs": [],
   "source": [
    "import pandas as pd\n",
    "import utils"
   ]
  },
  {
   "cell_type": "code",
   "execution_count": null,
   "metadata": {},
   "outputs": [],
   "source": [
    "X_label_encoded=pd.read_csv('Data//X_label_encoded.csv')\n",
    "\n",
    "X = X_label_encoded.drop(columns=['fog_train.class'])\n",
    "y = X_label_encoded['fog_train.class']"
   ]
  },
  {
   "cell_type": "code",
   "execution_count": null,
   "metadata": {},
   "outputs": [],
   "source": [
    "import pandas as pd\n",
    "import numpy as np\n",
    "from sklearn.model_selection import train_test_split\n",
    "from sklearn.preprocessing import StandardScaler\n",
    "from flaml import AutoML\n",
    "import seaborn as sns\n",
    "import matplotlib.pyplot as plt\n",
    "\n",
    "# 훈련 및 테스트 데이터 분리\n",
    "X_train, X_test, y_train, y_test = train_test_split(X, y, test_size=0.2, random_state=42)\n",
    "\n",
    "# 스케일링\n",
    "scaler = StandardScaler()\n",
    "X_train = scaler.fit_transform(X_train)\n",
    "X_test = scaler.transform(X_test)\n",
    "\n",
    "# AutoML 모델 정의 및 학습 (일부 데이터로 확인)\n",
    "automl = AutoML()\n",
    "\n",
    "# 전체 데이터로 학습\n",
    "automl.fit(X_train, y_train, task='classification', time_budget=600, log_file_name=\"automl.log\")\n",
    "\n",
    "# 최종 모델 예측\n",
    "y_pred = automl.predict(X_test)\n",
    "\n",
    "# 성능 평가\n",
    "print(classification_report(y_test, y_pred))\n",
    "\n",
    "# 다중 CSI 계산\n",
    "csi = utils.calculate_csi(y_test, y_pred)\n",
    "\n",
    "print(f'CSI: {csi}')\n",
    "\n",
    "# 혼동 행렬 시각화\n",
    "cm = confusion_matrix(y_test, y_pred)\n",
    "sns.heatmap(cm, annot=True, fmt='d', cmap='Blues')\n",
    "plt.title('Confusion Matrix')\n",
    "plt.xlabel('Predicted')\n",
    "plt.ylabel('True')\n",
    "plt.show()"
   ]
  },
  {
   "cell_type": "code",
   "execution_count": null,
   "metadata": {},
   "outputs": [],
   "source": [
    "'''\n",
    "CSI: 0.06412213740458016\n",
    "'''"
   ]
  },
  {
   "cell_type": "code",
   "execution_count": null,
   "metadata": {},
   "outputs": [],
   "source": [
    "import utils\n",
    "import h2o\n",
    "from h2o.automl import H2OAutoML\n",
    "from sklearn.model_selection import train_test_split\n",
    "from sklearn.preprocessing import LabelEncoder, OneHotEncoder\n",
    "import numpy as np"
   ]
  },
  {
   "cell_type": "code",
   "execution_count": null,
   "metadata": {},
   "outputs": [],
   "source": [
    "# H2O 클러스터 시작\n",
    "h2o.init()\n",
    "\n",
    "# 훈련 및 테스트 데이터 분리\n",
    "X_train_le, X_test_le, y_train, y_test = train_test_split(X_label_encoded, y, test_size=0.2, random_state=42)\n",
    "X_train_ohe, X_test_ohe, _, _ = train_test_split(X_ohe_encoded, y, test_size=0.2, random_state=42)\n",
    "\n",
    "# H2O 프레임으로 변환 (레이블 인코딩된 데이터)\n",
    "train_le = h2o.H2OFrame(pd.concat([X_train_le, y_train], axis=1))\n",
    "test_le = h2o.H2OFrame(pd.concat([X_test_le, y_test], axis=1))\n",
    "\n",
    "# H2O 프레임으로 변환 (원-핫 인코딩된 데이터)\n",
    "train_ohe = h2o.H2OFrame(np.column_stack((X_train_ohe, y_train)))\n",
    "test_ohe = h2o.H2OFrame(np.column_stack((X_test_ohe, y_test)))\n",
    "\n",
    "# H2O AutoML 실행 (레이블 인코딩된 데이터)\n",
    "aml_le = H2OAutoML(max_runtime_secs=3600, seed=42)\n",
    "aml_le.train(y='target', training_frame=train_le)\n",
    "\n",
    "# H2O AutoML 실행 (원-핫 인코딩된 데이터)\n",
    "aml_ohe = H2OAutoML(max_runtime_secs=3600, seed=42)\n",
    "aml_ohe.train(y=train_ohe.ncol-1, training_frame=train_ohe)\n",
    "\n",
    "# 예측 (레이블 인코딩된 데이터)\n",
    "preds_le = aml_le.leader.predict(test_le)\n",
    "y_pred_le = preds_le.as_data_frame().iloc[:, 0].values\n",
    "\n",
    "# 예측 (원-핫 인코딩된 데이터)\n",
    "preds_ohe = aml_ohe.leader.predict(test_ohe)\n",
    "y_pred_ohe = preds_ohe.as_data_frame().iloc[:, 0].values\n",
    "\n",
    "# 다중 CSI 계산 및 출력\n",
    "csi_le = utils.calculate_csi(y_test, y_pred_le)\n",
    "csi_ohe = utils.calculate_csi(y_test, y_pred_ohe)\n",
    "\n",
    "print(f'Label Encoded Data - CSI: {csi_le}')\n",
    "print(f'One-Hot Encoded Data - CSI: {csi_ohe}')\n",
    "\n",
    "# H2O 클러스터 종료\n",
    "h2o.shutdown()"
   ]
  }
 ],
 "metadata": {
  "language_info": {
   "name": "python"
  }
 },
 "nbformat": 4,
 "nbformat_minor": 2
}

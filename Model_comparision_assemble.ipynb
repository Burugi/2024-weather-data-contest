{
 "cells": [
  {
   "cell_type": "code",
   "execution_count": null,
   "metadata": {},
   "outputs": [],
   "source": [
    "from sklearn.ensemble import RandomForestClassifier\n",
    "\n",
    "## Bagging\n",
    "\n",
    "# RandomForestClassifier 학습\n",
    "rf_model = RandomForestClassifier(random_state=42)\n",
    "rf_model.fit(X_train, y_train)\n",
    "\n",
    "# 예측\n",
    "y_pred_rf = rf_model.predict(X_test)\n",
    "\n",
    "# 다중 CSI 계산\n",
    "csi = utils.calculate_csi(y_test, y_pred_rf)\n",
    "\n",
    "print(f'CSI: {csi}')"
   ]
  },
  {
   "cell_type": "code",
   "execution_count": null,
   "metadata": {},
   "outputs": [],
   "source": [
    "'''\n",
    "Bagging\n",
    "RandomForest Accuracy: 0.6870109546165885\n",
    "RandomForest Precision: 0.6839389854805095\n",
    "RandomForest Recall: 0.6870109546165885\n",
    "RandomForest F1 Score: 0.6843503608642438\n",
    "CSI: 0.4734576757532281\n",
    "'''"
   ]
  },
  {
   "cell_type": "code",
   "execution_count": null,
   "metadata": {},
   "outputs": [],
   "source": [
    "from sklearn.ensemble import GradientBoostingClassifier\n",
    "\n",
    "# GradientBoostingClassifier 학습\n",
    "gb_model = GradientBoostingClassifier(random_state=42)\n",
    "gb_model.fit(X_train, y_train)\n",
    "\n",
    "# 예측\n",
    "y_pred_gb = gb_model.predict(X_test)\n",
    "\n",
    "\n",
    "# 다중 CSI 계산\n",
    "csi = utils.calculate_csi(y_test, y_pred_gb)\n",
    "\n",
    "print(f'CSI: {csi}')"
   ]
  },
  {
   "cell_type": "code",
   "execution_count": null,
   "metadata": {},
   "outputs": [],
   "source": [
    "'''\n",
    "Boosting\n",
    "GradientBoosting Accuracy: 0.661189358372457\n",
    "GradientBoosting Precision: 0.6513279363552448\n",
    "GradientBoosting Recall: 0.661189358372457\n",
    "GradientBoosting F1 Score: 0.651937979030373\n",
    "CSI: 0.3881019830028329\n",
    "'''"
   ]
  },
  {
   "cell_type": "code",
   "execution_count": null,
   "metadata": {},
   "outputs": [],
   "source": [
    "from sklearn.ensemble import VotingClassifier\n",
    "from sklearn.linear_model import LogisticRegression\n",
    "from sklearn.svm import SVC\n",
    "\n",
    "# 개별 모델 정의\n",
    "logistic_model = LogisticRegression(max_iter=1000)\n",
    "svm_model = SVC(probability=True)\n",
    "rf_model = RandomForestClassifier(random_state=42)\n",
    "gb_model = GradientBoostingClassifier(random_state=42)\n",
    "\n",
    "# VotingClassifier 학습\n",
    "voting_model = VotingClassifier(\n",
    "    estimators=[\n",
    "        ('lr', logistic_model),\n",
    "        ('svm', svm_model),\n",
    "        ('rf', rf_model),\n",
    "        ('gb', gb_model)\n",
    "    ],\n",
    "    voting='soft'  # soft voting을 사용하여 각 모델의 확률 평균을 사용\n",
    ")\n",
    "voting_model.fit(X_train, y_train)\n",
    "\n",
    "# 예측\n",
    "y_pred_voting = voting_model.predict(X_test)\n",
    "\n",
    "# 다중 CSI 계산\n",
    "csi = utils.calculate_csi(y_test, y_pred_voting)\n",
    "\n",
    "print(f'CSI: {csi}')"
   ]
  },
  {
   "cell_type": "code",
   "execution_count": null,
   "metadata": {},
   "outputs": [],
   "source": [
    "'''\n",
    "Stacking\n",
    "VotingClassifier Accuracy: 0.6705790297339593\n",
    "VotingClassifier Precision: 0.6677747888928324\n",
    "VotingClassifier Recall: 0.6705790297339593\n",
    "VotingClassifier F1 Score: 0.6599824704533431\n",
    "CSI: 0.4147727272727273\n",
    "'''"
   ]
  }
 ],
 "metadata": {
  "language_info": {
   "name": "python"
  }
 },
 "nbformat": 4,
 "nbformat_minor": 2
}
